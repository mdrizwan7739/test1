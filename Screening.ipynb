{
 "cells": [
  {
   "cell_type": "markdown",
   "id": "821ebdd3",
   "metadata": {},
   "source": [
    "1. Create a function in python to read the text file and replace the specific content of the file ."
   ]
  },
  {
   "cell_type": "code",
   "execution_count": 36,
   "id": "88bb29dd",
   "metadata": {},
   "outputs": [
    {
     "name": "stdout",
     "output_type": "stream",
     "text": [
      "enter text to be replaced:placement\n",
      "enter text that will replace:screening\n",
      "Text successfully replaced\n"
     ]
    }
   ],
   "source": [
    "# Python program to replace text in a file\n",
    "x = input(\"enter text to be replaced:\")\n",
    "y = input(\"enter text that will replace:\")\n",
    "f = open(\"Example.txt\", \"r+\")\n",
    "l = f.readlines()\n",
    "for i in l:\n",
    "    if x in i:\n",
    "        Replacement = i.replace(x, y)\n",
    "        l = Replacement\n",
    "f.truncate(0)\n",
    "f.writelines(l)\n",
    "f.close()\n",
    "print(\"Text successfully replaced\")"
   ]
  },
  {
   "cell_type": "markdown",
   "id": "65147fa4",
   "metadata": {},
   "source": [
    "2. Demonstrate use of abstract class, multiple inheritance and decorator in python using examples."
   ]
  },
  {
   "cell_type": "markdown",
   "id": "9ae9197d",
   "metadata": {},
   "source": [
    "Abstract class : An abstract class can be considered as a blueprint for other classes. It allows you to create a set of methods that must be created within any child classes built from the abstract class. A class which contains one or more abstract methods is called an abstract class. An abstract method is a method that has a declaration but does not have an implementation. While we are designing large functional units we use an abstract class. When we want to provide a common interface for different implementations of a component, we use an abstract class."
   ]
  },
  {
   "cell_type": "code",
   "execution_count": 13,
   "id": "eeb2626a",
   "metadata": {},
   "outputs": [
    {
     "name": "stdout",
     "output_type": "stream",
     "text": [
      "The price of tata is 10 lakh\n",
      "The price of hyundai is 20 lakh\n",
      "The price of ferrari is 80 lakh\n",
      "The price of audi is 60 lakh\n"
     ]
    }
   ],
   "source": [
    "from abc import ABC, abstractmethod\n",
    "\n",
    "class Car(ABC):\n",
    "\n",
    "    @abstractmethod\n",
    "    def price(self):\n",
    "        pass\n",
    "\n",
    "class Tata(Car):\n",
    "    def price(self):\n",
    "        print(\"The price of tata is 10 lakh\")\n",
    "\n",
    "class Hyundai(Car):\n",
    "    def price(self):\n",
    "        print(\"The price of hyundai is 20 lakh\")\n",
    "\n",
    "class Ferrari(Car):\n",
    "    def price(self):\n",
    "        print(\"The price of ferrari is 80 lakh\")\n",
    "\n",
    "class Audi(Car):\n",
    "    def price(self):\n",
    "        print(\"The price of audi is 60 lakh\")\n",
    "\n",
    "# Driver code\n",
    "R = Tata()\n",
    "R.price()\n",
    "\n",
    "K = Hyundai()\n",
    "K.price()\n",
    "\n",
    "R = Ferrari()\n",
    "R.price()\n",
    "\n",
    "K = Audi()\n",
    "K.price()\n"
   ]
  },
  {
   "cell_type": "markdown",
   "id": "2eed61e6",
   "metadata": {},
   "source": [
    "Multiple Inheritance :When a class is derived from more than one base class it is called multiple Inheritance. The derived class inherits all the features of the base case."
   ]
  },
  {
   "cell_type": "code",
   "execution_count": 14,
   "id": "4dcab6b3",
   "metadata": {},
   "outputs": [
    {
     "name": "stdout",
     "output_type": "stream",
     "text": [
      "In Class2\n"
     ]
    }
   ],
   "source": [
    "class Class1:\n",
    "    def m(self):\n",
    "        print(\"In Class1\")\n",
    "class Class2(Class1):\n",
    "    def m(self):\n",
    "        print(\"In Class2\")\n",
    "\n",
    "class Class3(Class1):\n",
    "    def m(self):\n",
    "        print(\"In Class3\")\n",
    "\n",
    "class Class4(Class2, Class3):\n",
    "    pass\n",
    "\n",
    "obj = Class4()\n",
    "obj.m()\n"
   ]
  },
  {
   "cell_type": "markdown",
   "id": "ac700c42",
   "metadata": {},
   "source": [
    "Decorators : Decorators are a very powerful and useful tool in Python since it allows programmers to modify the behaviour of function or class. Decorators allow us to wrap another function in order to extend the behaviour of the wrapped function, without permanently modifying it."
   ]
  },
  {
   "cell_type": "code",
   "execution_count": 32,
   "id": "d141b00a",
   "metadata": {},
   "outputs": [],
   "source": [
    "def main_welcome(func):\n",
    "    def sub_welcome_class():\n",
    "        print(\"this wil print before the function\")\n",
    "        func()\n",
    "        print(\"this will print after the function\")\n",
    "    return sub_welcome_class()"
   ]
  },
  {
   "cell_type": "code",
   "execution_count": 33,
   "id": "a487d933",
   "metadata": {},
   "outputs": [
    {
     "name": "stdout",
     "output_type": "stream",
     "text": [
      "this wil print before the function\n",
      "this function show implementation of decorators\n",
      "this will print after the function\n"
     ]
    }
   ],
   "source": [
    "@main_welcome\n",
    "def welcome():\n",
    "    print(\"this function show implementation of decorators\")\n"
   ]
  },
  {
   "cell_type": "code",
   "execution_count": null,
   "id": "42100b49",
   "metadata": {},
   "outputs": [],
   "source": []
  },
  {
   "cell_type": "code",
   "execution_count": null,
   "id": "a701f5b2",
   "metadata": {},
   "outputs": [],
   "source": []
  }
 ],
 "metadata": {
  "kernelspec": {
   "display_name": "Python 3",
   "language": "python",
   "name": "python3"
  },
  "language_info": {
   "codemirror_mode": {
    "name": "ipython",
    "version": 3
   },
   "file_extension": ".py",
   "mimetype": "text/x-python",
   "name": "python",
   "nbconvert_exporter": "python",
   "pygments_lexer": "ipython3",
   "version": "3.8.8"
  }
 },
 "nbformat": 4,
 "nbformat_minor": 5
}
